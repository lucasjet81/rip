{
  "nbformat": 4,
  "nbformat_minor": 0,
  "metadata": {
    "colab": {
      "name": "uwustreamrip.ipynb",
      "provenance": [],
      "collapsed_sections": [
        "OVjsk7NLdlyl",
        "eXrJFXFAe0jk",
        "3zyFUKrkEho2"
      ]
    },
    "kernelspec": {
      "display_name": "Python 3",
      "name": "python3"
    },
    "language_info": {
      "name": "python"
    }
  },
  "cells": [
    {
      "cell_type": "code",
      "metadata": {
        "id": "J8HYk3VUyHfJ",
        "cellView": "form"
      },
      "source": [
        "#@title __Mount Google Drive and Install dependencies:__ { run: \"auto\" }\n",
        "from IPython.display import clear_output\n",
        "from google.colab import drive\n",
        "drive.mount('/content/drive', force_remount=True)\n",
        "clear_output()\n",
        "!echo 'Updating:'\n",
        "!sudo apt-get update -y\n",
        "clear_output()\n",
        "!echo 'Updating:'\n",
        "!sudo apt-get upgrade -y\n",
        "clear_output()\n",
        "!echo 'Installing dependencies:'\n",
        "!sudo apt-get install python3.9\n",
        "!sudo update-alternatives --install /usr/bin/python3 python3 /usr/bin/python3.7 1\n",
        "!sudo update-alternatives --install /usr/bin/python3 python3 /usr/bin/python3.9 2\n",
        "clear_output()\n",
        "!echo 'Installing dependencies:'\n",
        "!apt install python3-pip\n",
        "!apt install python3.9-distutils\n",
        "!wget https://raw.githubusercontent.com/radude/rentry/master/rentry -O ./rentry && chmod +x ./rentry\n",
        "!wget -q \"http://archive.ubuntu.com/ubuntu/pool/universe/libm/libmms/libmms0_0.6.4-2_amd64.deb\" \"https://mediaarea.net/download/binary/libzen0/0.4.39/libzen0v5_0.4.39-1_amd64.xUbuntu_18.04.deb\" \"https://mediaarea.net/download/binary/mediainfo/21.03/mediainfo_21.03-1_amd64.xUbuntu_18.04.deb\" \"https://mediaarea.net/download/binary/libmediainfo0/21.03/libmediainfo0v5_21.03-1_amd64.xUbuntu_18.04.deb\"\n",
        "!sudo dpkg -i /content/*.deb\n",
        "!rm -rf /content/*.deb\n",
        "clear_output()\n",
        "!echo 'Installing dependencies:'\n",
        "!python3 -m pip install --upgrade setuptools\n",
        "!python3 -m pip install --upgrade pip\n",
        "!python3 -m pip install --upgrade distlib\n",
        "!python3 -m pip install --upgrade streamrip\n",
        "clear_output()\n",
        "!echo 'Installing dependencies:'\n",
        "!python3 -m pip install --upgrade toml-cli\n",
        "!python3 -m pip install --upgrade hashlib\n",
        "clear_output()\n",
        "!echo \"Setup complete, now you can config streamrip and get going.\"\n",
        "!python --version\n",
        "!echo \"----\"\n",
        "!python3 -m pip --version\n",
        "!echo \"----\"\n",
        "!mediainfo --Version\n",
        "!echo \"----\"\n",
        "!ls"
      ],
      "execution_count": null,
      "outputs": []
    },
    {
      "cell_type": "markdown",
      "metadata": {
        "id": "OVjsk7NLdlyl"
      },
      "source": [
        "<b h>Config:</h>\n",
        "##### *Make sure to fill these up.*"
      ]
    },
    {
      "cell_type": "code",
      "metadata": {
        "id": "Bsin8qwwDzbQ",
        "cellView": "form"
      },
      "source": [
        "#@markdown ####<i h1>Most settings were left out because they were useless.</h1>\n",
        "!rm /root/.config/streamrip/config.toml\n",
        "!rip config\n",
        "\n",
        "#@markdown ###Downloads:\n",
        "#@markdown Click the folder icon on sidebar > drive > copy path by right clicking.\n",
        "path = \"\" #@param {type:\"string\"}\n",
        "#@markdown #####Make sure your path starts with `/`.\n",
        "!toml set --toml-path /root/.config/streamrip/config.toml downloads.folder \"{path}\"\n",
        "\n",
        "source_subdirectories = \"false\" #@param [\"false\", \"true\"]\n",
        "!toml set --toml-path /root/.config/streamrip/config.toml downloads.source_subdirectories {source_subdirectories}\n",
        "\n",
        "#@markdown ###Format:\n",
        "\n",
        "#@markdown ####Downloads Concurrency:\n",
        "#@markdown ######Keep this enabled unless you like to suffer.\n",
        "enabled = \"true\" #@param [\"false\", \"true\"]\n",
        "!toml set --toml-path /root/.config/streamrip/config.toml downloads.concurrency.enabled {enabled}\n",
        "\n",
        "#@markdown ####Max connections:\n",
        "#@markdown ###### The maximum number of tracks to download at once\n",
        "#@markdown ###### If you have very fast internet, you will benefit from a higher value,\n",
        "#@markdown ###### ~~A value that is too high for your bandwidth may cause slowdowns~~, just increase it lol.\n",
        "max_connections = 3 #@param {type:\"slider\", min:3, max:100, step:1}\n",
        "!toml set --to-int --toml-path /root/.config/streamrip/config.toml downloads.concurrency.max_connections {max_connections}\n",
        "\n",
        "#@markdown ###Filepaths:\n",
        "#@markdown ####Make sure format is in double quotes, `\"<format>\"`\n",
        "\n",
        "#@markdown ##### Available keys: `\"albumartist\", \"title\", \"year\", \"bit_depth\", \"sampling_rate\", \"container\", and \"albumcomposer\"`\n",
        "folder_format = \"\\\"{albumartist} - {title} ({year}) [{container}] [{bit_depth}B-{sampling_rate}kHz]\\\"\" #@param [\"\\\"{albumartist} - {title} ({year}) [{container}] [{bit_depth}B-{sampling_rate}kHz]\\\"\", \"Change this to your format.\"] {allow-input: true}\n",
        "!toml set --toml-path /root/.config/streamrip/config.toml filepaths.folder_format {folder_format}\n",
        "\n",
        "#@markdown #####Available keys: `\"tracknumber\", \"artist\", \"albumartist\", \"composer\", \"title\", \"id\", and \"albumcomposer\"`\n",
        "track_format = \"\\\"{tracknumber}. {artist} - {title}\\\"\" #@param [\"\\\"{tracknumber}. {artist} - {title}\\\"\", \"Change this to your format.\"] {allow-input: true}\n",
        "!toml set --toml-path /root/.config/streamrip/config.toml filepaths.track_format {track_format}\n",
        "\n",
        "#@markdown ###Conversion:\n",
        "#@markdown ##### Convert tracks to a codec after downloading them.\n",
        "#@markdown ##### Default is `ALAC`.\n",
        "codec = \"ALAC\" #@param [\"ALAC\", \"OPUS\", \"MP3\", \"FLAC\", \"VORBIS\", \"AAC\"]\n",
        "!toml set --toml-path /root/.config/streamrip/config.toml conversion.codec {codec}\n",
        "\n",
        "#@markdown ###### In Hz. Tracks are downsampled if their sampling rate is greater than this. Value of 48000 is recommended to maximize quality and minimize space\n",
        "#@markdown ###### Default is `48000`.\n",
        "sampling_rate =  48000 #@param {type:\"number\"}\n",
        "!toml set --to-int --toml-path /root/.config/streamrip/config.toml conversion.sampling_rate {sampling_rate}\n",
        "\n",
        "#@markdown ###Qobuz:\n",
        "#@markdown ###### Default is `3`.\n",
        "#@markdown ######Quality - 1: 320kbps MP3, 2: 16/44.1, 3: 24/<=96, 4: 24/>=96\n",
        "quality = 3 #@param {type:\"slider\", min:1, max:4, step:1}\n",
        "!toml set --to-int --toml-path /root/.config/streamrip/config.toml qobuz.quality {quality}\n",
        "\n",
        "#@markdown ###Tidal:\n",
        "#@markdown ###### Default is `3`.\n",
        "#@markdown ######Quality - 0: 256kbps AAC, 1: 320kbps AAC, 2: 16/44.1 \"HiFi\" FLAC, 3: 24/44.1 \"MQA\" FLAC\n",
        "tidal_quality = 3 #@param {type:\"slider\", min:0, max:3, step:1}\n",
        "!toml set --to-int --toml-path /root/.config/streamrip/config.toml tidal.quality {tidal_quality}\n",
        "\n",
        "#@markdown ###### Default is `true`.\n",
        "tidal_viddl = \"true\" #@param [\"true\", \"false\"]\n",
        "!toml set --toml-path /root/.config/streamrip/config.toml tidal.download_videos {tidal_viddl}\n",
        "\n",
        "\n",
        "!cat /root/.config/streamrip/config.toml\n"
      ],
      "execution_count": null,
      "outputs": []
    },
    {
      "cell_type": "markdown",
      "metadata": {
        "id": "eXrJFXFAe0jk"
      },
      "source": [
        "### Download:"
      ]
    },
    {
      "cell_type": "code",
      "metadata": {
        "id": "TM1vCgDvi1zS",
        "cellView": "form"
      },
      "source": [
        "#@title Download using streamrip:\n",
        "#@markdown <h5>Press enter once you add a link.</h5>\n",
        "link = \"\"#@param {type:\"string\"}\n",
        "!rip url {link} --ignore-db\n"
      ],
      "execution_count": null,
      "outputs": []
    },
    {
      "cell_type": "markdown",
      "metadata": {
        "id": "3zyFUKrkEho2"
      },
      "source": [
        "### Utility:"
      ]
    },
    {
      "cell_type": "code",
      "metadata": {
        "id": "zOtVw-oREg8e",
        "cellView": "form"
      },
      "source": [
        "#@markdown #### Zip files/folders (7z):\n",
        "#@markdown ##### Zips files/folders, specify the filename (*Use the sidebar to copy file paths dummy*) with path and then specify the source files/folders, they will be in your set filename directory.\n",
        "\n",
        "filename = \"\" #@param {type:\"string\"}\n",
        "Source = \"\" #@param {type:\"string\"}\n",
        "#@markdown ##### You can also input a password if you want, or leave `Password` blank and input when console asks.\n",
        "password_state = False #@param {type:\"boolean\"}\n",
        "Password = \"\" #@param {type:\"string\"}\n",
        "\n",
        "if password_state == False:\n",
        "    !7z a \"{filename}.7z\" \"{Source}\"\n",
        "elif password_state == True:\n",
        "    !7z a -p\"{Password}\" \"{filename}.7z\" \"{Source}\"\n",
        "\n",
        "\n"
      ],
      "execution_count": null,
      "outputs": []
    },
    {
      "cell_type": "code",
      "metadata": {
        "cellView": "form",
        "id": "r73nx9btqfnH"
      },
      "source": [
        "#@title Mediainfo with Pastebin:\n",
        "#@markdown ##### Allows you to get mediainfo of files with the ability to upload to various pastebins (Rentry, dpaste).\n",
        "import os\n",
        "Path = \"\" #@param {type:\"string\"}\n",
        "Pastebin = \"None\" #@param [\"None\", \"Rentry\", \"dpaste\"]\n",
        "media = !mediainfo \"$Path\"\n",
        "\n",
        "\n",
        "get_ipython().system_raw(\"\"\"mediainfo --LogFile=\"/root/.nfo\" \"$Path\" \"\"\")\n",
        "with open('/root/.nfo', 'r') as file:\n",
        "    media = file.read()\n",
        "    media = media.replace(os.path.dirname(Path)+\"/\", \"\")\n",
        "\n",
        "if Pastebin == \"None\":\n",
        "    print(media)\n",
        "elif Pastebin == \"Rentry\":\n",
        "    !./rentry new \"{media}\"\n",
        "elif Pastebin == \"dpaste\":\n",
        "    \n",
        "    import requests\n",
        "\n",
        "    data = {\"content\": f\"{media}\", \"expiry_days\": 365}\n",
        "    headers = {\"User-Agent\": \"Mediainfo\"}\n",
        "    r = requests.post(\"https://dpaste.com/api/\", data=data, headers=headers)\n",
        "    print(f\"URL: {r.text}\")\n",
        "\n",
        "\n",
        "\n",
        "\n",
        "\n",
        "\n",
        "\n"
      ],
      "execution_count": null,
      "outputs": []
    },
    {
      "cell_type": "code",
      "metadata": {
        "cellView": "form",
        "id": "bviiqrNgEv31"
      },
      "source": [
        "#@markdown #### Export Settings:\n",
        "#@markdown ##### Allows you to save your settings to a specified path.\n",
        "\n",
        "Path = \"\" #@param {type:\"string\"}\n",
        "!cp /root/.config/streamrip/config.toml \"{Path}\"\n"
      ],
      "execution_count": null,
      "outputs": []
    },
    {
      "cell_type": "code",
      "metadata": {
        "cellView": "form",
        "id": "Q6FwvgVFFLVE"
      },
      "source": [
        "#@markdown #### Import Settings:\n",
        "#@markdown ##### Allows you to import your settings.\n",
        "\n",
        "Path = \"\" #@param {type:\"string\"}\n",
        "!cp \"{Path}\" /root/.config/streamrip/config.toml"
      ],
      "execution_count": null,
      "outputs": []
    },
    {
      "cell_type": "markdown",
      "metadata": {
        "id": "Vo4oZDN_qTMk"
      },
      "source": [
        "## Notes:\n",
        "\n",
        "- Do **NOT** click the clear button of the download cell if you want to reuse the notebook again, just paste another link and run the cell, again, DO NOT CLEAR THE OUTPUT.\n",
        "\n",
        "- (Tidal) Don't worry about the random xdg-open jumbo, just click the url and log in using your account.\n",
        "\n",
        "- You can input in console whenever it asks you to, don't worry about it."
      ]
    }
  ]
}
